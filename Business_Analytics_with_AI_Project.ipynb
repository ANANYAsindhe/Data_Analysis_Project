{
  "nbformat": 4,
  "nbformat_minor": 0,
  "metadata": {
    "colab": {
      "provenance": [],
      "authorship_tag": "ABX9TyMD4httC3zXyfW57J5UPjLQ",
      "include_colab_link": true
    },
    "kernelspec": {
      "name": "python3",
      "display_name": "Python 3"
    },
    "language_info": {
      "name": "python"
    }
  },
  "cells": [
    {
      "cell_type": "markdown",
      "metadata": {
        "id": "view-in-github",
        "colab_type": "text"
      },
      "source": [
        "<a href=\"https://colab.research.google.com/github/ANANYAsindhe/Data_Analysis_Project/blob/main/Business_Analytics_with_AI_Project.ipynb\" target=\"_parent\"><img src=\"https://colab.research.google.com/assets/colab-badge.svg\" alt=\"Open In Colab\"/></a>"
      ]
    },
    {
      "cell_type": "code",
      "execution_count": 2,
      "metadata": {
        "colab": {
          "base_uri": "https://localhost:8080/"
        },
        "id": "sZE4AXPFaQxG",
        "outputId": "a2389533-a1b5-49ae-ae09-dfba01bd977d"
      },
      "outputs": [
        {
          "output_type": "stream",
          "name": "stdout",
          "text": [
            "   employee_id         department     region  education gender  \\\n",
            "0         8724         Technology  region_26  Bachelors      m   \n",
            "1        74430                 HR   region_4  Bachelors      f   \n",
            "2        72255  Sales & Marketing  region_13  Bachelors      m   \n",
            "3        38562        Procurement   region_2  Bachelors      f   \n",
            "4        64486            Finance  region_29  Bachelors      m   \n",
            "\n",
            "  recruitment_channel  no_of_trainings  age  previous_year_rating  \\\n",
            "0            sourcing                1   24                   NaN   \n",
            "1               other                1   31                   3.0   \n",
            "2               other                1   31                   1.0   \n",
            "3               other                3   31                   2.0   \n",
            "4            sourcing                1   30                   4.0   \n",
            "\n",
            "   length_of_service  KPIs_met_more_than_80  awards_won  avg_training_score  \n",
            "0                  1                      1           0                  77  \n",
            "1                  5                      0           0                  51  \n",
            "2                  4                      0           0                  47  \n",
            "3                  9                      0           0                  65  \n",
            "4                  7                      0           0                  61  \n"
          ]
        }
      ],
      "source": [
        "import pandas as pd\n",
        "\n",
        "# Load the CSV file into a DataFrame\n",
        "file_path = '/content/employees_dataset.xlsx'\n",
        "df = pd.read_excel('/content/employees_dataset.xlsx')\n",
        "\n",
        "# Display the first few rows to confirm it loaded correctly\n",
        "print(df.head())"
      ]
    },
    {
      "cell_type": "code",
      "metadata": {
        "colab": {
          "base_uri": "https://localhost:8080/"
        },
        "id": "0a1654f5",
        "outputId": "06675003-9432-47c2-b4e7-4aed4a21f0da"
      },
      "source": [
        "# Check for missing values in each column\n",
        "print(\"Missing values per column:\")\n",
        "print(df.isnull().sum())\n",
        "\n",
        "# Check for duplicate records\n",
        "print(\"\\nNumber of duplicate records:\")\n",
        "print(df.duplicated().sum())"
      ],
      "execution_count": 3,
      "outputs": [
        {
          "output_type": "stream",
          "name": "stdout",
          "text": [
            "Missing values per column:\n",
            "employee_id                 0\n",
            "department                  0\n",
            "region                      0\n",
            "education                 771\n",
            "gender                      0\n",
            "recruitment_channel         0\n",
            "no_of_trainings             0\n",
            "age                         0\n",
            "previous_year_rating     1363\n",
            "length_of_service           0\n",
            "KPIs_met_more_than_80       0\n",
            "awards_won                  0\n",
            "avg_training_score          0\n",
            "dtype: int64\n",
            "\n",
            "Number of duplicate records:\n",
            "2\n"
          ]
        }
      ]
    },
    {
      "cell_type": "markdown",
      "metadata": {
        "id": "cf6406f2"
      },
      "source": [
        "# Task\n",
        "Analyze employee performance and retention patterns using the dataset \"employees_dataset.xlsx - employees_dataset.csv\" and provide actionable insights."
      ]
    },
    {
      "cell_type": "markdown",
      "metadata": {
        "id": "06ee1f1e"
      },
      "source": [
        "## Handle missing values\n",
        "\n",
        "### Subtask:\n",
        "Inspect and decide on a strategy for handling missing values in the 'education' and 'previous_year_year_rating' columns. This could involve imputation or removal depending on the analysis requirements.\n"
      ]
    },
    {
      "cell_type": "markdown",
      "metadata": {
        "id": "784cdacb"
      },
      "source": [
        "**Reasoning**:\n",
        "Inspect the number and distribution of missing values in 'education' and 'previous_year_rating' to inform the handling strategy.\n",
        "\n"
      ]
    },
    {
      "cell_type": "code",
      "metadata": {
        "colab": {
          "base_uri": "https://localhost:8080/"
        },
        "id": "7a30e383",
        "outputId": "0e116f4f-4fd3-4e1e-b3d8-2567fb8026ce"
      },
      "source": [
        "# Inspect missing values in 'education'\n",
        "print(\"Missing values in 'education':\", df['education'].isnull().sum())\n",
        "\n",
        "# Inspect the distribution of 'education'\n",
        "print(\"\\nDistribution of 'education':\")\n",
        "print(df['education'].value_counts(dropna=False))\n",
        "\n",
        "# Inspect missing values in 'previous_year_rating'\n",
        "print(\"\\nMissing values in 'previous_year_rating':\", df['previous_year_rating'].isnull().sum())\n",
        "\n",
        "# Inspect the distribution of 'previous_year_rating'\n",
        "print(\"\\nDistribution of 'previous_year_rating':\")\n",
        "print(df['previous_year_rating'].value_counts(dropna=False))"
      ],
      "execution_count": 4,
      "outputs": [
        {
          "output_type": "stream",
          "name": "stdout",
          "text": [
            "Missing values in 'education': 771\n",
            "\n",
            "Distribution of 'education':\n",
            "education\n",
            "Bachelors          11519\n",
            "Masters & above     4841\n",
            "NaN                  771\n",
            "Below Secondary      286\n",
            "Name: count, dtype: int64\n",
            "\n",
            "Missing values in 'previous_year_rating': 1363\n",
            "\n",
            "Distribution of 'previous_year_rating':\n",
            "previous_year_rating\n",
            "3.0    5813\n",
            "5.0    3817\n",
            "4.0    3156\n",
            "1.0    1976\n",
            "NaN    1363\n",
            "2.0    1292\n",
            "Name: count, dtype: int64\n"
          ]
        }
      ]
    },
    {
      "cell_type": "markdown",
      "metadata": {
        "id": "11d5f3c8"
      },
      "source": [
        "**Reasoning**:\n",
        "Based on the distributions, imputing 'education' with the mode ('Bachelors') and 'previous_year_rating' with a constant value (e.g., 0 to indicate no rating) seems reasonable given the categorical nature of 'education' and the ordinal nature of 'previous_year_rating' where missing values could imply no prior rating.\n",
        "\n"
      ]
    },
    {
      "cell_type": "code",
      "metadata": {
        "colab": {
          "base_uri": "https://localhost:8080/"
        },
        "id": "fe3dff6e",
        "outputId": "ef9da17d-6934-413e-a0ab-3910f141c8ab"
      },
      "source": [
        "# Impute missing 'education' values with the mode\n",
        "mode_education = df['education'].mode()[0]\n",
        "df['education'].fillna(mode_education, inplace=True)\n",
        "\n",
        "# Impute missing 'previous_year_rating' values with 0\n",
        "df['previous_year_rating'].fillna(0, inplace=True)\n",
        "\n",
        "# Verify that missing values have been handled\n",
        "print(\"\\nMissing values after imputation:\")\n",
        "print(df[['education', 'previous_year_rating']].isnull().sum())"
      ],
      "execution_count": 5,
      "outputs": [
        {
          "output_type": "stream",
          "name": "stdout",
          "text": [
            "\n",
            "Missing values after imputation:\n",
            "education               0\n",
            "previous_year_rating    0\n",
            "dtype: int64\n"
          ]
        },
        {
          "output_type": "stream",
          "name": "stderr",
          "text": [
            "/tmp/ipython-input-2942767500.py:3: FutureWarning: A value is trying to be set on a copy of a DataFrame or Series through chained assignment using an inplace method.\n",
            "The behavior will change in pandas 3.0. This inplace method will never work because the intermediate object on which we are setting values always behaves as a copy.\n",
            "\n",
            "For example, when doing 'df[col].method(value, inplace=True)', try using 'df.method({col: value}, inplace=True)' or df[col] = df[col].method(value) instead, to perform the operation inplace on the original object.\n",
            "\n",
            "\n",
            "  df['education'].fillna(mode_education, inplace=True)\n",
            "/tmp/ipython-input-2942767500.py:6: FutureWarning: A value is trying to be set on a copy of a DataFrame or Series through chained assignment using an inplace method.\n",
            "The behavior will change in pandas 3.0. This inplace method will never work because the intermediate object on which we are setting values always behaves as a copy.\n",
            "\n",
            "For example, when doing 'df[col].method(value, inplace=True)', try using 'df.method({col: value}, inplace=True)' or df[col] = df[col].method(value) instead, to perform the operation inplace on the original object.\n",
            "\n",
            "\n",
            "  df['previous_year_rating'].fillna(0, inplace=True)\n"
          ]
        }
      ]
    },
    {
      "cell_type": "markdown",
      "metadata": {
        "id": "936f71a2"
      },
      "source": [
        "## Handle duplicate records\n",
        "\n",
        "### Subtask:\n",
        "Inspect and remove or handle the duplicate records identified in the dataset.\n"
      ]
    },
    {
      "cell_type": "markdown",
      "metadata": {
        "id": "b5bff2b2"
      },
      "source": [
        "**Reasoning**:\n",
        "Inspect the duplicate rows in the DataFrame to understand their nature by filtering the DataFrame to show only the duplicated rows.\n",
        "\n"
      ]
    },
    {
      "cell_type": "code",
      "metadata": {
        "colab": {
          "base_uri": "https://localhost:8080/",
          "height": 181
        },
        "id": "3db2764d",
        "outputId": "da5aa0ff-cc58-475f-ba32-1c71676eee48"
      },
      "source": [
        "# Inspect the duplicate rows\n",
        "duplicate_rows = df[df.duplicated(keep=False)]\n",
        "print(\"Duplicate rows:\")\n",
        "display(duplicate_rows)"
      ],
      "execution_count": 6,
      "outputs": [
        {
          "output_type": "stream",
          "name": "stdout",
          "text": [
            "Duplicate rows:\n"
          ]
        },
        {
          "output_type": "display_data",
          "data": {
            "text/plain": [
              "       employee_id department    region  education gender recruitment_channel  \\\n",
              "17413        49584         HR  region_7  Bachelors      m               other   \n",
              "17414        49584         HR  region_7  Bachelors      m               other   \n",
              "17415        49584         HR  region_7  Bachelors      m               other   \n",
              "\n",
              "       no_of_trainings  age  previous_year_rating  length_of_service  \\\n",
              "17413                1   33                   1.0                  9   \n",
              "17414                1   33                   1.0                  9   \n",
              "17415                1   33                   1.0                  9   \n",
              "\n",
              "       KPIs_met_more_than_80  awards_won  avg_training_score  \n",
              "17413                      0           0                  51  \n",
              "17414                      0           0                  51  \n",
              "17415                      0           0                  51  "
            ],
            "text/html": [
              "\n",
              "  <div id=\"df-c32db70c-c879-4285-9a51-89527748fcf5\" class=\"colab-df-container\">\n",
              "    <div>\n",
              "<style scoped>\n",
              "    .dataframe tbody tr th:only-of-type {\n",
              "        vertical-align: middle;\n",
              "    }\n",
              "\n",
              "    .dataframe tbody tr th {\n",
              "        vertical-align: top;\n",
              "    }\n",
              "\n",
              "    .dataframe thead th {\n",
              "        text-align: right;\n",
              "    }\n",
              "</style>\n",
              "<table border=\"1\" class=\"dataframe\">\n",
              "  <thead>\n",
              "    <tr style=\"text-align: right;\">\n",
              "      <th></th>\n",
              "      <th>employee_id</th>\n",
              "      <th>department</th>\n",
              "      <th>region</th>\n",
              "      <th>education</th>\n",
              "      <th>gender</th>\n",
              "      <th>recruitment_channel</th>\n",
              "      <th>no_of_trainings</th>\n",
              "      <th>age</th>\n",
              "      <th>previous_year_rating</th>\n",
              "      <th>length_of_service</th>\n",
              "      <th>KPIs_met_more_than_80</th>\n",
              "      <th>awards_won</th>\n",
              "      <th>avg_training_score</th>\n",
              "    </tr>\n",
              "  </thead>\n",
              "  <tbody>\n",
              "    <tr>\n",
              "      <th>17413</th>\n",
              "      <td>49584</td>\n",
              "      <td>HR</td>\n",
              "      <td>region_7</td>\n",
              "      <td>Bachelors</td>\n",
              "      <td>m</td>\n",
              "      <td>other</td>\n",
              "      <td>1</td>\n",
              "      <td>33</td>\n",
              "      <td>1.0</td>\n",
              "      <td>9</td>\n",
              "      <td>0</td>\n",
              "      <td>0</td>\n",
              "      <td>51</td>\n",
              "    </tr>\n",
              "    <tr>\n",
              "      <th>17414</th>\n",
              "      <td>49584</td>\n",
              "      <td>HR</td>\n",
              "      <td>region_7</td>\n",
              "      <td>Bachelors</td>\n",
              "      <td>m</td>\n",
              "      <td>other</td>\n",
              "      <td>1</td>\n",
              "      <td>33</td>\n",
              "      <td>1.0</td>\n",
              "      <td>9</td>\n",
              "      <td>0</td>\n",
              "      <td>0</td>\n",
              "      <td>51</td>\n",
              "    </tr>\n",
              "    <tr>\n",
              "      <th>17415</th>\n",
              "      <td>49584</td>\n",
              "      <td>HR</td>\n",
              "      <td>region_7</td>\n",
              "      <td>Bachelors</td>\n",
              "      <td>m</td>\n",
              "      <td>other</td>\n",
              "      <td>1</td>\n",
              "      <td>33</td>\n",
              "      <td>1.0</td>\n",
              "      <td>9</td>\n",
              "      <td>0</td>\n",
              "      <td>0</td>\n",
              "      <td>51</td>\n",
              "    </tr>\n",
              "  </tbody>\n",
              "</table>\n",
              "</div>\n",
              "    <div class=\"colab-df-buttons\">\n",
              "\n",
              "  <div class=\"colab-df-container\">\n",
              "    <button class=\"colab-df-convert\" onclick=\"convertToInteractive('df-c32db70c-c879-4285-9a51-89527748fcf5')\"\n",
              "            title=\"Convert this dataframe to an interactive table.\"\n",
              "            style=\"display:none;\">\n",
              "\n",
              "  <svg xmlns=\"http://www.w3.org/2000/svg\" height=\"24px\" viewBox=\"0 -960 960 960\">\n",
              "    <path d=\"M120-120v-720h720v720H120Zm60-500h600v-160H180v160Zm220 220h160v-160H400v160Zm0 220h160v-160H400v160ZM180-400h160v-160H180v160Zm440 0h160v-160H620v160ZM180-180h160v-160H180v160Zm440 0h160v-160H620v160Z\"/>\n",
              "  </svg>\n",
              "    </button>\n",
              "\n",
              "  <style>\n",
              "    .colab-df-container {\n",
              "      display:flex;\n",
              "      gap: 12px;\n",
              "    }\n",
              "\n",
              "    .colab-df-convert {\n",
              "      background-color: #E8F0FE;\n",
              "      border: none;\n",
              "      border-radius: 50%;\n",
              "      cursor: pointer;\n",
              "      display: none;\n",
              "      fill: #1967D2;\n",
              "      height: 32px;\n",
              "      padding: 0 0 0 0;\n",
              "      width: 32px;\n",
              "    }\n",
              "\n",
              "    .colab-df-convert:hover {\n",
              "      background-color: #E2EBFA;\n",
              "      box-shadow: 0px 1px 2px rgba(60, 64, 67, 0.3), 0px 1px 3px 1px rgba(60, 64, 67, 0.15);\n",
              "      fill: #174EA6;\n",
              "    }\n",
              "\n",
              "    .colab-df-buttons div {\n",
              "      margin-bottom: 4px;\n",
              "    }\n",
              "\n",
              "    [theme=dark] .colab-df-convert {\n",
              "      background-color: #3B4455;\n",
              "      fill: #D2E3FC;\n",
              "    }\n",
              "\n",
              "    [theme=dark] .colab-df-convert:hover {\n",
              "      background-color: #434B5C;\n",
              "      box-shadow: 0px 1px 3px 1px rgba(0, 0, 0, 0.15);\n",
              "      filter: drop-shadow(0px 1px 2px rgba(0, 0, 0, 0.3));\n",
              "      fill: #FFFFFF;\n",
              "    }\n",
              "  </style>\n",
              "\n",
              "    <script>\n",
              "      const buttonEl =\n",
              "        document.querySelector('#df-c32db70c-c879-4285-9a51-89527748fcf5 button.colab-df-convert');\n",
              "      buttonEl.style.display =\n",
              "        google.colab.kernel.accessAllowed ? 'block' : 'none';\n",
              "\n",
              "      async function convertToInteractive(key) {\n",
              "        const element = document.querySelector('#df-c32db70c-c879-4285-9a51-89527748fcf5');\n",
              "        const dataTable =\n",
              "          await google.colab.kernel.invokeFunction('convertToInteractive',\n",
              "                                                    [key], {});\n",
              "        if (!dataTable) return;\n",
              "\n",
              "        const docLinkHtml = 'Like what you see? Visit the ' +\n",
              "          '<a target=\"_blank\" href=https://colab.research.google.com/notebooks/data_table.ipynb>data table notebook</a>'\n",
              "          + ' to learn more about interactive tables.';\n",
              "        element.innerHTML = '';\n",
              "        dataTable['output_type'] = 'display_data';\n",
              "        await google.colab.output.renderOutput(dataTable, element);\n",
              "        const docLink = document.createElement('div');\n",
              "        docLink.innerHTML = docLinkHtml;\n",
              "        element.appendChild(docLink);\n",
              "      }\n",
              "    </script>\n",
              "  </div>\n",
              "\n",
              "\n",
              "    <div id=\"df-c501f374-521c-40bd-bd47-c6595a824261\">\n",
              "      <button class=\"colab-df-quickchart\" onclick=\"quickchart('df-c501f374-521c-40bd-bd47-c6595a824261')\"\n",
              "                title=\"Suggest charts\"\n",
              "                style=\"display:none;\">\n",
              "\n",
              "<svg xmlns=\"http://www.w3.org/2000/svg\" height=\"24px\"viewBox=\"0 0 24 24\"\n",
              "     width=\"24px\">\n",
              "    <g>\n",
              "        <path d=\"M19 3H5c-1.1 0-2 .9-2 2v14c0 1.1.9 2 2 2h14c1.1 0 2-.9 2-2V5c0-1.1-.9-2-2-2zM9 17H7v-7h2v7zm4 0h-2V7h2v10zm4 0h-2v-4h2v4z\"/>\n",
              "    </g>\n",
              "</svg>\n",
              "      </button>\n",
              "\n",
              "<style>\n",
              "  .colab-df-quickchart {\n",
              "      --bg-color: #E8F0FE;\n",
              "      --fill-color: #1967D2;\n",
              "      --hover-bg-color: #E2EBFA;\n",
              "      --hover-fill-color: #174EA6;\n",
              "      --disabled-fill-color: #AAA;\n",
              "      --disabled-bg-color: #DDD;\n",
              "  }\n",
              "\n",
              "  [theme=dark] .colab-df-quickchart {\n",
              "      --bg-color: #3B4455;\n",
              "      --fill-color: #D2E3FC;\n",
              "      --hover-bg-color: #434B5C;\n",
              "      --hover-fill-color: #FFFFFF;\n",
              "      --disabled-bg-color: #3B4455;\n",
              "      --disabled-fill-color: #666;\n",
              "  }\n",
              "\n",
              "  .colab-df-quickchart {\n",
              "    background-color: var(--bg-color);\n",
              "    border: none;\n",
              "    border-radius: 50%;\n",
              "    cursor: pointer;\n",
              "    display: none;\n",
              "    fill: var(--fill-color);\n",
              "    height: 32px;\n",
              "    padding: 0;\n",
              "    width: 32px;\n",
              "  }\n",
              "\n",
              "  .colab-df-quickchart:hover {\n",
              "    background-color: var(--hover-bg-color);\n",
              "    box-shadow: 0 1px 2px rgba(60, 64, 67, 0.3), 0 1px 3px 1px rgba(60, 64, 67, 0.15);\n",
              "    fill: var(--button-hover-fill-color);\n",
              "  }\n",
              "\n",
              "  .colab-df-quickchart-complete:disabled,\n",
              "  .colab-df-quickchart-complete:disabled:hover {\n",
              "    background-color: var(--disabled-bg-color);\n",
              "    fill: var(--disabled-fill-color);\n",
              "    box-shadow: none;\n",
              "  }\n",
              "\n",
              "  .colab-df-spinner {\n",
              "    border: 2px solid var(--fill-color);\n",
              "    border-color: transparent;\n",
              "    border-bottom-color: var(--fill-color);\n",
              "    animation:\n",
              "      spin 1s steps(1) infinite;\n",
              "  }\n",
              "\n",
              "  @keyframes spin {\n",
              "    0% {\n",
              "      border-color: transparent;\n",
              "      border-bottom-color: var(--fill-color);\n",
              "      border-left-color: var(--fill-color);\n",
              "    }\n",
              "    20% {\n",
              "      border-color: transparent;\n",
              "      border-left-color: var(--fill-color);\n",
              "      border-top-color: var(--fill-color);\n",
              "    }\n",
              "    30% {\n",
              "      border-color: transparent;\n",
              "      border-left-color: var(--fill-color);\n",
              "      border-top-color: var(--fill-color);\n",
              "      border-right-color: var(--fill-color);\n",
              "    }\n",
              "    40% {\n",
              "      border-color: transparent;\n",
              "      border-right-color: var(--fill-color);\n",
              "      border-top-color: var(--fill-color);\n",
              "    }\n",
              "    60% {\n",
              "      border-color: transparent;\n",
              "      border-right-color: var(--fill-color);\n",
              "    }\n",
              "    80% {\n",
              "      border-color: transparent;\n",
              "      border-right-color: var(--fill-color);\n",
              "      border-bottom-color: var(--fill-color);\n",
              "    }\n",
              "    90% {\n",
              "      border-color: transparent;\n",
              "      border-bottom-color: var(--fill-color);\n",
              "    }\n",
              "  }\n",
              "</style>\n",
              "\n",
              "      <script>\n",
              "        async function quickchart(key) {\n",
              "          const quickchartButtonEl =\n",
              "            document.querySelector('#' + key + ' button');\n",
              "          quickchartButtonEl.disabled = true;  // To prevent multiple clicks.\n",
              "          quickchartButtonEl.classList.add('colab-df-spinner');\n",
              "          try {\n",
              "            const charts = await google.colab.kernel.invokeFunction(\n",
              "                'suggestCharts', [key], {});\n",
              "          } catch (error) {\n",
              "            console.error('Error during call to suggestCharts:', error);\n",
              "          }\n",
              "          quickchartButtonEl.classList.remove('colab-df-spinner');\n",
              "          quickchartButtonEl.classList.add('colab-df-quickchart-complete');\n",
              "        }\n",
              "        (() => {\n",
              "          let quickchartButtonEl =\n",
              "            document.querySelector('#df-c501f374-521c-40bd-bd47-c6595a824261 button');\n",
              "          quickchartButtonEl.style.display =\n",
              "            google.colab.kernel.accessAllowed ? 'block' : 'none';\n",
              "        })();\n",
              "      </script>\n",
              "    </div>\n",
              "\n",
              "  <div id=\"id_5872bda8-8fa2-46e4-8668-2a381f360790\">\n",
              "    <style>\n",
              "      .colab-df-generate {\n",
              "        background-color: #E8F0FE;\n",
              "        border: none;\n",
              "        border-radius: 50%;\n",
              "        cursor: pointer;\n",
              "        display: none;\n",
              "        fill: #1967D2;\n",
              "        height: 32px;\n",
              "        padding: 0 0 0 0;\n",
              "        width: 32px;\n",
              "      }\n",
              "\n",
              "      .colab-df-generate:hover {\n",
              "        background-color: #E2EBFA;\n",
              "        box-shadow: 0px 1px 2px rgba(60, 64, 67, 0.3), 0px 1px 3px 1px rgba(60, 64, 67, 0.15);\n",
              "        fill: #174EA6;\n",
              "      }\n",
              "\n",
              "      [theme=dark] .colab-df-generate {\n",
              "        background-color: #3B4455;\n",
              "        fill: #D2E3FC;\n",
              "      }\n",
              "\n",
              "      [theme=dark] .colab-df-generate:hover {\n",
              "        background-color: #434B5C;\n",
              "        box-shadow: 0px 1px 3px 1px rgba(0, 0, 0, 0.15);\n",
              "        filter: drop-shadow(0px 1px 2px rgba(0, 0, 0, 0.3));\n",
              "        fill: #FFFFFF;\n",
              "      }\n",
              "    </style>\n",
              "    <button class=\"colab-df-generate\" onclick=\"generateWithVariable('duplicate_rows')\"\n",
              "            title=\"Generate code using this dataframe.\"\n",
              "            style=\"display:none;\">\n",
              "\n",
              "  <svg xmlns=\"http://www.w3.org/2000/svg\" height=\"24px\"viewBox=\"0 0 24 24\"\n",
              "       width=\"24px\">\n",
              "    <path d=\"M7,19H8.4L18.45,9,17,7.55,7,17.6ZM5,21V16.75L18.45,3.32a2,2,0,0,1,2.83,0l1.4,1.43a1.91,1.91,0,0,1,.58,1.4,1.91,1.91,0,0,1-.58,1.4L9.25,21ZM18.45,9,17,7.55Zm-12,3A5.31,5.31,0,0,0,4.9,8.1,5.31,5.31,0,0,0,1,6.5,5.31,5.31,0,0,0,4.9,4.9,5.31,5.31,0,0,0,6.5,1,5.31,5.31,0,0,0,8.1,4.9,5.31,5.31,0,0,0,12,6.5,5.46,5.46,0,0,0,6.5,12Z\"/>\n",
              "  </svg>\n",
              "    </button>\n",
              "    <script>\n",
              "      (() => {\n",
              "      const buttonEl =\n",
              "        document.querySelector('#id_5872bda8-8fa2-46e4-8668-2a381f360790 button.colab-df-generate');\n",
              "      buttonEl.style.display =\n",
              "        google.colab.kernel.accessAllowed ? 'block' : 'none';\n",
              "\n",
              "      buttonEl.onclick = () => {\n",
              "        google.colab.notebook.generateWithVariable('duplicate_rows');\n",
              "      }\n",
              "      })();\n",
              "    </script>\n",
              "  </div>\n",
              "\n",
              "    </div>\n",
              "  </div>\n"
            ],
            "application/vnd.google.colaboratory.intrinsic+json": {
              "type": "dataframe",
              "variable_name": "duplicate_rows",
              "summary": "{\n  \"name\": \"duplicate_rows\",\n  \"rows\": 3,\n  \"fields\": [\n    {\n      \"column\": \"employee_id\",\n      \"properties\": {\n        \"dtype\": \"number\",\n        \"std\": 0,\n        \"min\": 49584,\n        \"max\": 49584,\n        \"num_unique_values\": 1,\n        \"samples\": [\n          49584\n        ],\n        \"semantic_type\": \"\",\n        \"description\": \"\"\n      }\n    },\n    {\n      \"column\": \"department\",\n      \"properties\": {\n        \"dtype\": \"category\",\n        \"num_unique_values\": 1,\n        \"samples\": [\n          \"HR\"\n        ],\n        \"semantic_type\": \"\",\n        \"description\": \"\"\n      }\n    },\n    {\n      \"column\": \"region\",\n      \"properties\": {\n        \"dtype\": \"category\",\n        \"num_unique_values\": 1,\n        \"samples\": [\n          \"region_7\"\n        ],\n        \"semantic_type\": \"\",\n        \"description\": \"\"\n      }\n    },\n    {\n      \"column\": \"education\",\n      \"properties\": {\n        \"dtype\": \"category\",\n        \"num_unique_values\": 1,\n        \"samples\": [\n          \"Bachelors\"\n        ],\n        \"semantic_type\": \"\",\n        \"description\": \"\"\n      }\n    },\n    {\n      \"column\": \"gender\",\n      \"properties\": {\n        \"dtype\": \"category\",\n        \"num_unique_values\": 1,\n        \"samples\": [\n          \"m\"\n        ],\n        \"semantic_type\": \"\",\n        \"description\": \"\"\n      }\n    },\n    {\n      \"column\": \"recruitment_channel\",\n      \"properties\": {\n        \"dtype\": \"category\",\n        \"num_unique_values\": 1,\n        \"samples\": [\n          \"other\"\n        ],\n        \"semantic_type\": \"\",\n        \"description\": \"\"\n      }\n    },\n    {\n      \"column\": \"no_of_trainings\",\n      \"properties\": {\n        \"dtype\": \"number\",\n        \"std\": 0,\n        \"min\": 1,\n        \"max\": 1,\n        \"num_unique_values\": 1,\n        \"samples\": [\n          1\n        ],\n        \"semantic_type\": \"\",\n        \"description\": \"\"\n      }\n    },\n    {\n      \"column\": \"age\",\n      \"properties\": {\n        \"dtype\": \"number\",\n        \"std\": 0,\n        \"min\": 33,\n        \"max\": 33,\n        \"num_unique_values\": 1,\n        \"samples\": [\n          33\n        ],\n        \"semantic_type\": \"\",\n        \"description\": \"\"\n      }\n    },\n    {\n      \"column\": \"previous_year_rating\",\n      \"properties\": {\n        \"dtype\": \"number\",\n        \"std\": 0.0,\n        \"min\": 1.0,\n        \"max\": 1.0,\n        \"num_unique_values\": 1,\n        \"samples\": [\n          1.0\n        ],\n        \"semantic_type\": \"\",\n        \"description\": \"\"\n      }\n    },\n    {\n      \"column\": \"length_of_service\",\n      \"properties\": {\n        \"dtype\": \"number\",\n        \"std\": 0,\n        \"min\": 9,\n        \"max\": 9,\n        \"num_unique_values\": 1,\n        \"samples\": [\n          9\n        ],\n        \"semantic_type\": \"\",\n        \"description\": \"\"\n      }\n    },\n    {\n      \"column\": \"KPIs_met_more_than_80\",\n      \"properties\": {\n        \"dtype\": \"number\",\n        \"std\": 0,\n        \"min\": 0,\n        \"max\": 0,\n        \"num_unique_values\": 1,\n        \"samples\": [\n          0\n        ],\n        \"semantic_type\": \"\",\n        \"description\": \"\"\n      }\n    },\n    {\n      \"column\": \"awards_won\",\n      \"properties\": {\n        \"dtype\": \"number\",\n        \"std\": 0,\n        \"min\": 0,\n        \"max\": 0,\n        \"num_unique_values\": 1,\n        \"samples\": [\n          0\n        ],\n        \"semantic_type\": \"\",\n        \"description\": \"\"\n      }\n    },\n    {\n      \"column\": \"avg_training_score\",\n      \"properties\": {\n        \"dtype\": \"number\",\n        \"std\": 0,\n        \"min\": 51,\n        \"max\": 51,\n        \"num_unique_values\": 1,\n        \"samples\": [\n          51\n        ],\n        \"semantic_type\": \"\",\n        \"description\": \"\"\n      }\n    }\n  ]\n}"
            }
          },
          "metadata": {}
        }
      ]
    },
    {
      "cell_type": "markdown",
      "metadata": {
        "id": "65abd653"
      },
      "source": [
        "**Reasoning**:\n",
        "Remove the identified duplicate rows from the DataFrame and verify that the duplicate rows have been successfully removed by checking the number of duplicate records again.\n",
        "\n"
      ]
    },
    {
      "cell_type": "code",
      "metadata": {
        "colab": {
          "base_uri": "https://localhost:8080/"
        },
        "id": "afbbb205",
        "outputId": "eaa99dbf-e231-497e-9770-8881c6990c1f"
      },
      "source": [
        "# Remove duplicate rows, keeping the first occurrence\n",
        "df.drop_duplicates(inplace=True)\n",
        "\n",
        "# Verify that the duplicate rows have been removed\n",
        "print(\"\\nNumber of duplicate records after removal:\")\n",
        "print(df.duplicated().sum())"
      ],
      "execution_count": 7,
      "outputs": [
        {
          "output_type": "stream",
          "name": "stdout",
          "text": [
            "\n",
            "Number of duplicate records after removal:\n",
            "0\n"
          ]
        }
      ]
    },
    {
      "cell_type": "markdown",
      "metadata": {
        "id": "1a6528f3"
      },
      "source": [
        "## Data transformation\n",
        "\n",
        "### Subtask:\n",
        "Perform any necessary data type conversions or feature engineering required for the analysis.\n"
      ]
    },
    {
      "cell_type": "markdown",
      "metadata": {
        "id": "98b01229"
      },
      "source": [
        "**Reasoning**:\n",
        "Convert 'previous_year_rating' to integer, create 'has_awards' feature, and create 'age_group' feature by binning 'age'.\n",
        "\n"
      ]
    },
    {
      "cell_type": "code",
      "metadata": {
        "colab": {
          "base_uri": "https://localhost:8080/"
        },
        "id": "9501c66d",
        "outputId": "25d7f470-cbbc-496f-f14e-d98609dab3ed"
      },
      "source": [
        "# 1. Convert 'previous_year_rating' to integer\n",
        "df['previous_year_rating'] = df['previous_year_rating'].astype(int)\n",
        "\n",
        "# 2. Create 'has_awards' binary feature\n",
        "df['has_awards'] = (df['awards_won'] > 0).astype(int)\n",
        "\n",
        "# 3. Create 'age_group' categorical feature by binning 'age'\n",
        "bins = [20, 30, 40, 50, 60, 70]\n",
        "labels = ['20-30', '31-40', '41-50', '51-60', '61-70']\n",
        "df['age_group'] = pd.cut(df['age'], bins=bins, labels=labels, right=True, include_lowest=True)\n",
        "\n",
        "# Display the first few rows with the new features and updated type\n",
        "print(df[['previous_year_rating', 'has_awards', 'age_group', 'age']].head())\n",
        "\n",
        "# Verify the data types of the new and converted columns\n",
        "print(\"\\nData types after conversion and feature engineering:\")\n",
        "print(df[['previous_year_rating', 'has_awards', 'age_group']].dtypes)"
      ],
      "execution_count": 8,
      "outputs": [
        {
          "output_type": "stream",
          "name": "stdout",
          "text": [
            "   previous_year_rating  has_awards age_group  age\n",
            "0                     0           0     20-30   24\n",
            "1                     3           0     31-40   31\n",
            "2                     1           0     31-40   31\n",
            "3                     2           0     31-40   31\n",
            "4                     4           0     20-30   30\n",
            "\n",
            "Data types after conversion and feature engineering:\n",
            "previous_year_rating       int64\n",
            "has_awards                 int64\n",
            "age_group               category\n",
            "dtype: object\n"
          ]
        }
      ]
    },
    {
      "cell_type": "markdown",
      "metadata": {
        "id": "5cfc45f5"
      },
      "source": [
        "## Identify performance patterns\n",
        "\n",
        "### Subtask:\n",
        "Analyze how factors like age, education, and department relate to employee performance.\n"
      ]
    },
    {
      "cell_type": "markdown",
      "metadata": {
        "id": "d867c641"
      },
      "source": [
        "**Reasoning**:\n",
        "Calculate and print the average training score for each age group, education level, and department, and then calculate and print the proportion of employees meeting KPIs for each of these categories.\n",
        "\n"
      ]
    },
    {
      "cell_type": "code",
      "metadata": {
        "colab": {
          "base_uri": "https://localhost:8080/"
        },
        "id": "2b338c6b",
        "outputId": "546c3419-17b5-4886-d784-05adc7c00565"
      },
      "source": [
        "# Calculate the average avg_training_score for each age_group\n",
        "avg_training_score_by_age_group = df.groupby('age_group')['avg_training_score'].mean()\n",
        "print(\"Average Training Score by Age Group:\")\n",
        "print(avg_training_score_by_age_group)\n",
        "\n",
        "# Calculate the average avg_training_score for each education level\n",
        "avg_training_score_by_education = df.groupby('education')['avg_training_score'].mean()\n",
        "print(\"\\nAverage Training Score by Education Level:\")\n",
        "print(avg_training_score_by_education)\n",
        "\n",
        "# Calculate the average avg_training_score for each department\n",
        "avg_training_score_by_department = df.groupby('department')['avg_training_score'].mean()\n",
        "print(\"\\nAverage Training Score by Department:\")\n",
        "print(avg_training_score_by_department)\n",
        "\n",
        "# Calculate the proportion of employees who met KPIs for each age_group\n",
        "kpi_proportion_by_age_group = df.groupby('age_group')['KPIs_met_more_than_80'].mean()\n",
        "print(\"\\nProportion of Employees Meeting KPIs by Age Group:\")\n",
        "print(kpi_proportion_by_age_group)\n",
        "\n",
        "# Calculate the proportion of employees who met KPIs for each education level\n",
        "kpi_proportion_by_education = df.groupby('education')['KPIs_met_more_than_80'].mean()\n",
        "print(\"\\nProportion of Employees Meeting KPIs by Education Level:\")\n",
        "print(kpi_proportion_by_education)\n",
        "\n",
        "# Calculate the proportion of employees who met KPIs for each department\n",
        "kpi_proportion_by_department = df.groupby('department')['KPIs_met_more_than_80'].mean()\n",
        "print(\"\\nProportion of Employees Meeting KPIs by Department:\")\n",
        "print(kpi_proportion_by_department)"
      ],
      "execution_count": 9,
      "outputs": [
        {
          "output_type": "stream",
          "name": "stdout",
          "text": [
            "Average Training Score by Age Group:\n",
            "age_group\n",
            "20-30    63.746890\n",
            "31-40    63.155175\n",
            "41-50    61.892078\n",
            "51-60    63.254839\n",
            "61-70          NaN\n",
            "Name: avg_training_score, dtype: float64\n",
            "\n",
            "Average Training Score by Education Level:\n",
            "education\n",
            "Bachelors          62.737467\n",
            "Below Secondary    65.902098\n",
            "Masters & above    64.134270\n",
            "Name: avg_training_score, dtype: float64\n",
            "\n",
            "Average Training Score by Department:\n",
            "department\n",
            "Analytics            84.565115\n",
            "Finance              60.326683\n",
            "HR                   50.386282\n",
            "Legal                59.533133\n",
            "Operations           60.351589\n",
            "Procurement          70.180357\n",
            "R&D                  84.451807\n",
            "Sales & Marketing    50.056614\n",
            "Technology           79.847658\n",
            "Name: avg_training_score, dtype: float64\n",
            "\n",
            "Proportion of Employees Meeting KPIs by Age Group:\n",
            "age_group\n",
            "20-30    0.363856\n",
            "31-40    0.368357\n",
            "41-50    0.331447\n",
            "51-60    0.317204\n",
            "61-70         NaN\n",
            "Name: KPIs_met_more_than_80, dtype: float64\n",
            "\n",
            "Proportion of Employees Meeting KPIs by Education Level:\n",
            "education\n",
            "Bachelors          0.352702\n",
            "Below Secondary    0.465035\n",
            "Masters & above    0.368312\n",
            "Name: KPIs_met_more_than_80, dtype: float64\n",
            "\n",
            "Proportion of Employees Meeting KPIs by Department:\n",
            "department\n",
            "Analytics            0.400118\n",
            "Finance              0.397756\n",
            "HR                   0.361011\n",
            "Legal                0.355422\n",
            "Operations           0.440692\n",
            "Procurement          0.373214\n",
            "R&D                  0.448795\n",
            "Sales & Marketing    0.277208\n",
            "Technology           0.356071\n",
            "Name: KPIs_met_more_than_80, dtype: float64\n"
          ]
        },
        {
          "output_type": "stream",
          "name": "stderr",
          "text": [
            "/tmp/ipython-input-793722522.py:2: FutureWarning: The default of observed=False is deprecated and will be changed to True in a future version of pandas. Pass observed=False to retain current behavior or observed=True to adopt the future default and silence this warning.\n",
            "  avg_training_score_by_age_group = df.groupby('age_group')['avg_training_score'].mean()\n",
            "/tmp/ipython-input-793722522.py:17: FutureWarning: The default of observed=False is deprecated and will be changed to True in a future version of pandas. Pass observed=False to retain current behavior or observed=True to adopt the future default and silence this warning.\n",
            "  kpi_proportion_by_age_group = df.groupby('age_group')['KPIs_met_more_than_80'].mean()\n"
          ]
        }
      ]
    },
    {
      "cell_type": "markdown",
      "metadata": {
        "id": "3089ac70"
      },
      "source": [
        "## Examine retention trends\n",
        "\n",
        "### Subtask:\n",
        "Look at how long employees stay (tenure) and how this is influenced by their performance ratings and awards won.\n"
      ]
    },
    {
      "cell_type": "markdown",
      "metadata": {
        "id": "eb6333e1"
      },
      "source": [
        "**Reasoning**:\n",
        "Calculate the average length of service for employees based on their previous year's rating and whether they won awards, then print the results to understand the relationship between these factors and tenure.\n",
        "\n"
      ]
    },
    {
      "cell_type": "code",
      "metadata": {
        "colab": {
          "base_uri": "https://localhost:8080/"
        },
        "id": "11bbc1d2",
        "outputId": "f90783db-aba0-45a0-cad0-298ca33e5368"
      },
      "source": [
        "# Calculate the average length of service for employees based on their 'previous_year_rating'\n",
        "avg_tenure_by_rating = df.groupby('previous_year_rating')['length_of_service'].mean()\n",
        "print(\"Average Length of Service by Previous Year Rating:\")\n",
        "print(avg_tenure_by_rating)\n",
        "\n",
        "# Calculate the average length of service for employees based on whether they received 'awards_won'\n",
        "avg_tenure_by_awards = df.groupby('has_awards')['length_of_service'].mean()\n",
        "print(\"\\nAverage Length of Service by Awards Won (0: No Awards, 1: Awards Won):\")\n",
        "print(avg_tenure_by_awards)"
      ],
      "execution_count": 10,
      "outputs": [
        {
          "output_type": "stream",
          "name": "stdout",
          "text": [
            "Average Length of Service by Previous Year Rating:\n",
            "previous_year_rating\n",
            "0    1.000000\n",
            "1    6.199595\n",
            "2    6.075851\n",
            "3    6.200413\n",
            "4    6.218631\n",
            "5    6.264868\n",
            "Name: length_of_service, dtype: float64\n",
            "\n",
            "Average Length of Service by Awards Won (0: No Awards, 1: Awards Won):\n",
            "has_awards\n",
            "0    5.826846\n",
            "1    4.742015\n",
            "Name: length_of_service, dtype: float64\n"
          ]
        }
      ]
    },
    {
      "cell_type": "markdown",
      "metadata": {
        "id": "b58f6c12"
      },
      "source": [
        "## Provide recommendations\n",
        "\n",
        "### Subtask:\n",
        "Based on the analysis, provide recommendations to HR managers on how to improve employee engagement, productivity, and reduce turnover.\n"
      ]
    },
    {
      "cell_type": "markdown",
      "metadata": {
        "id": "166ee533"
      },
      "source": [
        "**Reasoning**:\n",
        "Synthesize the findings from the previous analysis steps and formulate actionable recommendations for HR managers based on these insights to improve employee engagement, productivity, and reduce turnover.\n",
        "\n"
      ]
    },
    {
      "cell_type": "code",
      "metadata": {
        "colab": {
          "base_uri": "https://localhost:8080/"
        },
        "id": "825f26b2",
        "outputId": "5f3e3523-9434-461a-bb15-f9f2f1165d31"
      },
      "source": [
        "# Based on \"Identify performance patterns\" findings:\n",
        "# - Age Group and Performance: 20-40 age group performs slightly better.\n",
        "# - Education and Performance: \"Below Secondary\" and \"Masters & above\" perform well in KPIs.\n",
        "# - Department and Performance: Analytics, R&D, and Technology excel in training scores; Operations and R&D in KPIs; Sales & Marketing lowest in KPIs.\n",
        "\n",
        "# Based on \"Examine retention trends\" findings:\n",
        "# - Performance Rating and Tenure: Employees with any rating (1-5) have longer tenure than those with no rating (0).\n",
        "# - Awards and Tenure: Counter-intuitively, employees without awards have slightly longer average tenure.\n",
        "\n",
        "print(\"Recommendations for HR Managers:\")\n",
        "print(\"\\n1. Targeted Training Programs:\")\n",
        "print(\"- Develop specialized training programs for departments with lower average training scores and KPI achievement, such as Sales & Marketing.\")\n",
        "print(\"- Investigate the training needs of the 41-60 age group to understand potential reasons for slightly lower average performance compared to younger groups.\")\n",
        "print(\"- Analyze the factors contributing to the high performance of employees with 'Below Secondary' and 'Masters & above' education to potentially replicate successful strategies.\")\n",
        "\n",
        "print(\"\\n2. Enhanced Performance Management:\")\n",
        "print(\"- Implement a clear performance review process for all employees, ensuring everyone receives a 'previous_year_rating'. Focus on providing timely feedback and development plans, especially for new hires (those currently with a rating of 0) to potentially increase retention.\")\n",
        "print(\"- Investigate the surprising finding regarding awards and tenure. Understand if employees receiving awards are being promoted or transitioning out for other reasons. Re-evaluate the recognition program to ensure it positively impacts retention.\")\n",
        "\n",
        "print(\"\\n3. Improved Employee Engagement and Support:\")\n",
        "print(\"- Explore reasons for lower KPI achievement in departments like Sales & Marketing and implement targeted support or resources.\")\n",
        "print(\"- Consider mentorship programs pairing high-performing employees (potentially from R&D, Operations, Analytics) with those in departments or age groups needing improvement.\")\n",
        "print(\"- Further investigate the retention differences based on previous year's rating (0 vs. 1-5) to identify potential early disengagement signs and implement interventions.\")"
      ],
      "execution_count": 11,
      "outputs": [
        {
          "output_type": "stream",
          "name": "stdout",
          "text": [
            "Recommendations for HR Managers:\n",
            "\n",
            "1. Targeted Training Programs:\n",
            "- Develop specialized training programs for departments with lower average training scores and KPI achievement, such as Sales & Marketing.\n",
            "- Investigate the training needs of the 41-60 age group to understand potential reasons for slightly lower average performance compared to younger groups.\n",
            "- Analyze the factors contributing to the high performance of employees with 'Below Secondary' and 'Masters & above' education to potentially replicate successful strategies.\n",
            "\n",
            "2. Enhanced Performance Management:\n",
            "- Implement a clear performance review process for all employees, ensuring everyone receives a 'previous_year_rating'. Focus on providing timely feedback and development plans, especially for new hires (those currently with a rating of 0) to potentially increase retention.\n",
            "- Investigate the surprising finding regarding awards and tenure. Understand if employees receiving awards are being promoted or transitioning out for other reasons. Re-evaluate the recognition program to ensure it positively impacts retention.\n",
            "\n",
            "3. Improved Employee Engagement and Support:\n",
            "- Explore reasons for lower KPI achievement in departments like Sales & Marketing and implement targeted support or resources.\n",
            "- Consider mentorship programs pairing high-performing employees (potentially from R&D, Operations, Analytics) with those in departments or age groups needing improvement.\n",
            "- Further investigate the retention differences based on previous year's rating (0 vs. 1-5) to identify potential early disengagement signs and implement interventions.\n"
          ]
        }
      ]
    },
    {
      "cell_type": "markdown",
      "metadata": {
        "id": "2cc827f7"
      },
      "source": [
        "## Summary:\n",
        "\n",
        "### Data Analysis Key Findings\n",
        "\n",
        "*   There were 771 missing values in the 'education' column and 1363 missing values in the 'previous_year_rating' column.\n",
        "*   Duplicate records were identified and removed from the dataset.\n",
        "*   The 'previous_year_rating' column was converted to an integer data type.\n",
        "*   A binary feature 'has\\_awards' was created, indicating whether an employee won awards.\n",
        "*   A categorical feature 'age\\_group' was created by binning the 'age' column.\n",
        "*   The average training scores and the proportion of employees meeting KPIs varied across age groups, education levels, and departments.\n",
        "*   Employees with 'Below Secondary' education had the highest average training scores and the highest proportion of meeting KPIs.\n",
        "*   Departments like Analytics, R\\&D, and Technology had notably higher average training scores, while Operations and R\\&D showed higher proportions of employees meeting KPIs.\n",
        "*   Employees with any previous year's rating (1-5) had a significantly longer average length of service (around 6.1-6.2 years) compared to those with a rating of 0 (1 year).\n",
        "*   Employees who did not win awards had a slightly higher average length of service (5.83 years) compared to those who did win awards (4.74 years).\n",
        "\n",
        "### Insights or Next Steps\n",
        "\n",
        "*   Implement targeted training programs for departments and age groups with lower performance metrics to improve overall employee productivity.\n",
        "*   Investigate the reasons behind the shorter tenure of employees with no previous year's rating and the counter-intuitive finding regarding awards and tenure to refine retention strategies and recognition programs.\n"
      ]
    }
  ]
}